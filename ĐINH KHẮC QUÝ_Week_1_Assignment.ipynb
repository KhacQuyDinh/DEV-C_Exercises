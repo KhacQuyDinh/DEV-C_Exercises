{
 "cells": [
  {
   "cell_type": "markdown",
   "metadata": {
    "colab_type": "text",
    "id": "K-UTH5d-XiQC"
   },
   "source": [
    "#SQL\n"
   ]
  },
  {
   "cell_type": "markdown",
   "metadata": {
    "colab_type": "text",
    "id": "WD0e6TnIW9Hu"
   },
   "source": [
    "##Task 1\n",
    "Query all columns for a city in CITY with the ID 1661.\n",
    "\n",
    "Input Format\n",
    "\n",
    "The CITY table is described as follows: <br>\n",
    "<img src = \"https://s3.amazonaws.com/hr-challenge-images/8137/1449729804-f21d187d0f-CITY.jpg\">\n",
    "\n",
    "1.   List item\n",
    "2.   List item\n",
    "\n"
   ]
  },
  {
   "cell_type": "code",
   "execution_count": null,
   "metadata": {
    "colab": {},
    "colab_type": "code",
    "id": "K4Bt1V9rW_KJ"
   },
   "outputs": [],
   "source": [
    "  SELECT * FROM city WHERE id=1661"
   ]
  },
  {
   "cell_type": "markdown",
   "metadata": {
    "colab_type": "text",
    "id": "f6A9keYQXtfC"
   },
   "source": [
    "##Task 2\n",
    "Query all columns for all American cities in CITY with populations larger than 100000. The CountryCode for America is USA.\n",
    "\n",
    "Input Format<br>\n",
    "<img src = \"https://s3.amazonaws.com/hr-challenge-images/8137/1449729804-f21d187d0f-CITY.jpg\">\n"
   ]
  },
  {
   "cell_type": "code",
   "execution_count": null,
   "metadata": {
    "colab": {},
    "colab_type": "code",
    "id": "2AeLf7ooX7O-"
   },
   "outputs": [],
   "source": [
    "SELECT * FROM city WHERE population > 100000 AND countrycode = \"USA\""
   ]
  },
  {
   "cell_type": "markdown",
   "metadata": {
    "colab_type": "text",
    "id": "r69LByLtYCY0"
   },
   "source": [
    "##Task 3\n",
    "Query all attributes of every Japanese city in the CITY table. The COUNTRYCODE for Japan is JPN.\n",
    "\n",
    "Input Format:<br>\n",
    "<img src = \"https://s3.amazonaws.com/hr-challenge-images/8137/1449729804-f21d187d0f-CITY.jpg\">"
   ]
  },
  {
   "cell_type": "code",
   "execution_count": null,
   "metadata": {
    "colab": {},
    "colab_type": "code",
    "id": "olzcFs4-YVm6"
   },
   "outputs": [],
   "source": [
    "SELECT * FROM city WHERE countrycode = \"JPN\""
   ]
  },
  {
   "cell_type": "markdown",
   "metadata": {
    "colab_type": "text",
    "id": "kNb_l0BAYqQY"
   },
   "source": [
    "##Task 4\n",
    "Query the names of all the Japanese cities in the CITY table. The COUNTRYCODE for Japan is JPN.\n",
    "\n",
    "Input Format<br>\n",
    "<img src = \"https://s3.amazonaws.com/hr-challenge-images/8137/1449729804-f21d187d0f-CITY.jpg\">\n"
   ]
  },
  {
   "cell_type": "code",
   "execution_count": null,
   "metadata": {
    "colab": {},
    "colab_type": "code",
    "id": "SGkB1ac5Y8C2"
   },
   "outputs": [],
   "source": [
    "SELECT name FROM city WHERE countrycode = \"JPN\""
   ]
  },
  {
   "cell_type": "markdown",
   "metadata": {
    "colab_type": "text",
    "id": "G_YzuI-hZBeL"
   },
   "source": [
    "##Task 5\n",
    "Query a list of CITY and STATE from the STATION table.\n",
    "\n",
    "Input Format\n",
    "\n",
    "The STATION table is described as follows:<br>\n",
    "<img src = 'https://s3.amazonaws.com/hr-challenge-images/9336/1449345840-5f0a551030-Station.jpg'>"
   ]
  },
  {
   "cell_type": "code",
   "execution_count": null,
   "metadata": {
    "colab": {},
    "colab_type": "code",
    "id": "1WxKBKUOZNUQ"
   },
   "outputs": [],
   "source": [
    "SELECT city, state FROM station"
   ]
  },
  {
   "cell_type": "markdown",
   "metadata": {
    "colab_type": "text",
    "id": "OqMKxr4hZSBn"
   },
   "source": [
    "##Task 6\n",
    "Query a list of CITY names from STATION with even ID numbers only. You may print the results in any order, but must exclude duplicates from your answer.\n",
    "\n",
    "Input Format\n",
    "\n",
    "The STATION table is described as follows:<br>\n",
    "<img src =\"https://s3.amazonaws.com/hr-challenge-images/9336/1449345840-5f0a551030-Station.jpg\">\n"
   ]
  },
  {
   "cell_type": "code",
   "execution_count": null,
   "metadata": {
    "colab": {},
    "colab_type": "code",
    "id": "OOF-_k34Zg3U"
   },
   "outputs": [],
   "source": [
    "SELECT DISTINCT city FROM station WHERE ID % 2 = 0"
   ]
  },
  {
   "cell_type": "markdown",
   "metadata": {
    "colab_type": "text",
    "id": "ZcN5Ns0fZnT9"
   },
   "source": [
    "Let  be the number of CITY entries in STATION, and let  be the number of distinct CITY names in STATION; query the value of  from STATION. In other words, find the difference between the total number of CITY entries in the table and the number of distinct CITY entries in the table.\n",
    "\n",
    "Input Format\n",
    "\n",
    "The STATION table is described as follows:<br>\n",
    "<img src = \"https://s3.amazonaws.com/hr-challenge-images/9336/1449345840-5f0a551030-Station.jpg\"><br>\n",
    "where LAT_N is the northern latitude and LONG_W is the western longitude."
   ]
  },
  {
   "cell_type": "code",
   "execution_count": null,
   "metadata": {
    "colab": {},
    "colab_type": "code",
    "id": "J8Hcjsl6lVW8"
   },
   "outputs": [],
   "source": [
    "SELECT COUNT(city) - COUNT(DISTINCT city) FROM station"
   ]
  },
  {
   "cell_type": "markdown",
   "metadata": {
    "colab_type": "text",
    "id": "8fWTW_yflyCC"
   },
   "source": [
    "##Task 7\n",
    "Query the two cities in STATION with the shortest and longest CITY names, as well as their respective lengths (i.e.: number of characters in the name). If there is more than one smallest or largest city, choose the one that comes first when ordered alphabetically.\n",
    "\n",
    "Input Format\n",
    "\n",
    "The STATION table is described as follows:<br>\n",
    "  <img src = \"https://s3.amazonaws.com/hr-challenge-images/9336/1449345840-5f0a551030-Station.jpg\">\n",
    "  "
   ]
  },
  {
   "cell_type": "code",
   "execution_count": null,
   "metadata": {
    "colab": {},
    "colab_type": "code",
    "id": "zPqGViBgl4mL"
   },
   "outputs": [],
   "source": [
    "(SELECT city, LENGTH(city) FROM station ORDER BY LENGTH(city) ASC, city ASC LIMIT 1)\n",
    "UNION\n",
    "(SELECT city, LENGTH(city) FROM station ORDER BY LENGTH(city) DESC, city ASC LIMIT 1)"
   ]
  },
  {
   "cell_type": "markdown",
   "metadata": {
    "colab_type": "text",
    "id": "34DxPDy5l9N2"
   },
   "source": [
    "##Task 8\n",
    "Query the list of CITY names starting with vowels (i.e., a, e, i, o, or u) from STATION. Your result cannot contain duplicates.\n",
    "\n",
    "Input Format\n",
    "\n",
    "The STATION table is described as follows: <br>\n",
    "<img src = \"https://s3.amazonaws.com/hr-challenge-images/9336/1449345840-5f0a551030-Station.jpg\" >\n"
   ]
  },
  {
   "cell_type": "code",
   "execution_count": null,
   "metadata": {
    "colab": {},
    "colab_type": "code",
    "id": "RWRar3_emQ7Y"
   },
   "outputs": [],
   "source": [
    "# MS SQL Server\n",
    "SELECT DISTINCT city FROM station WHERE city LIKE \"[aouie]%\"\n",
    "# MY SQL Server\n",
    "SELECT DISTINCT city from station WHERE LEFT(city, 1) in ('a', 'o', 'i', 'e', 'u')"
   ]
  },
  {
   "cell_type": "markdown",
   "metadata": {
    "colab_type": "text",
    "id": "E1WTjlFPmTfp"
   },
   "source": [
    "##Task 9\n",
    "Query the list of CITY names ending with vowels (a, e, i, o, u) from STATION. Your result cannot contain duplicates.\n",
    "\n",
    "Input Format\n",
    "\n",
    "The STATION table is described as follows:<br>\n",
    "<img src =\"https://s3.amazonaws.com/hr-challenge-images/9336/1449345840-5f0a551030-Station.jpg\">\n"
   ]
  },
  {
   "cell_type": "code",
   "execution_count": null,
   "metadata": {
    "colab": {},
    "colab_type": "code",
    "id": "wQ7n53Lwmp1Z"
   },
   "outputs": [],
   "source": [
    "# MS SQL Server\n",
    "SELECT DISTINCT city FROM station WHERE city LIKE \"%[aouie]\"\n",
    "# MYSQL\n",
    "SELECT DISTINCT city from station WHERE RIGHT(city, 1) in ('a', 'o', 'i', 'e', 'u')"
   ]
  },
  {
   "cell_type": "markdown",
   "metadata": {
    "colab_type": "text",
    "id": "bNSYroclmsPI"
   },
   "source": [
    "##Task 10\n",
    "Query the list of CITY names from STATION which have vowels (i.e., a, e, i, o, and u) as both their first and last characters. Your result cannot contain duplicates.\n",
    "\n",
    "Input Format\n",
    "\n",
    "The STATION table is described as follows:<br>\n",
    "<img src =\"https://s3.amazonaws.com/hr-challenge-images/9336/1449345840-5f0a551030-Station.jpg\">"
   ]
  },
  {
   "cell_type": "code",
   "execution_count": null,
   "metadata": {
    "colab": {},
    "colab_type": "code",
    "id": "PQZ0Tecam6hD"
   },
   "outputs": [],
   "source": [
    "# MS SQL Server\n",
    "SELECT DISTINCT city FROM station WHERE city LIKE \"[aouie]%[aouie]\"\n",
    "# MYSQL\n",
    "SELECT DISTINCT city from station WHERE RIGHT(city, 1) in ('a', 'o', 'i', 'e', 'u') and LEFT(city, 1) in ('a', 'o', 'i', 'e', 'u')"
   ]
  },
  {
   "cell_type": "markdown",
   "metadata": {
    "colab_type": "text",
    "id": "6IwVOztbngOn"
   },
   "source": [
    "##Task 1\n",
    "Task\n",
    "Given an integer, perform the following conditional actions:\n",
    "\n",
    "* If n is odd, print `Weird`\n",
    "* If n is even and in the inclusive range of 2 to 5, print `Not Weird`\n",
    "* If n is even and in the inclusive range of 6 to 20, print `Weird`\n",
    "* If n is even and greater than 20, print `Not Weird`\n",
    "\n",
    "Input Format\n",
    "\n",
    "A single line containing a positive integer\n",
    "\n",
    "Output Format\n",
    "\n",
    "Print Weird if the number is weird; otherwise, print Not Weird."
   ]
  },
  {
   "cell_type": "code",
   "execution_count": null,
   "metadata": {
    "colab": {},
    "colab_type": "code",
    "id": "1BfL6RuLoXFl"
   },
   "outputs": [],
   "source": [
    "if __name__ == '__main__':\n",
    "        n = int(input())\n",
    "\n",
    "        # your code here\n",
    "        if n%2 != 0:\n",
    "            print(\"Weird\")\n",
    "        elif n%2 == 0 and n in range(2,5):\n",
    "            print(\"Not Weird\")\n",
    "        elif n%2 == 0 and n in range(6, 20):\n",
    "            print(\"Weird\")\n",
    "        elif n%2 == 0 and n > 20:\n",
    "            print(\"Not Weird\")"
   ]
  },
  {
   "cell_type": "markdown",
   "metadata": {
    "colab_type": "text",
    "id": "DJT7d3P6nJx9"
   },
   "source": [
    "#Python"
   ]
  },
  {
   "cell_type": "markdown",
   "metadata": {
    "colab_type": "text",
    "id": "ZozvHrq_o3VH"
   },
   "source": [
    "##Task 2\n",
    "Read two integers from STDIN and print three lines where:\n",
    "<ol>\n",
    "  <li>The first line contains the sum of the two numbers.</li>\n",
    "  <li>The second line contains the difference of the two numbers (first - second).</li>\n",
    "  <li>The third line contains the product of the two numbers.</li>\n",
    "</ol>\n",
    "\n",
    "**Input Format**\n",
    "\n",
    "The first line contains the first integer, **a**. The second line contains the second integer, **b**.\n",
    "\n",
    "**Output Format**\n",
    "\n",
    "Print the three lines as explained above."
   ]
  },
  {
   "cell_type": "code",
   "execution_count": null,
   "metadata": {
    "colab": {},
    "colab_type": "code",
    "id": "W59QuFDUp8A6"
   },
   "outputs": [],
   "source": [
    "if __name__ == '__main__':\n",
    "    a = int(input())\n",
    "    b = int(input())\n",
    "    # your code here\n",
    "    print(\"Sum(a,b) = {0}\\nDiff(a,b) = {1}\\nProduct(a,b) = {2}\".format(a+b, a-b, a*b))"
   ]
  },
  {
   "cell_type": "markdown",
   "metadata": {
    "colab_type": "text",
    "id": "nRtP3Qt4qWPW"
   },
   "source": [
    "#Task 3\n",
    "Task\n",
    "Read an integer $N$. For all non-negative integers $i<N$ , print $i^{2}$. See the sample for details.\n",
    "\n",
    "Input Format\n",
    "\n",
    "The first and only line contains the integer, $N$ .\n",
    "\n",
    "Constraints<br>\n",
    "$1 \\leq N \\leq i$\n",
    "\n",
    "Output Format\n",
    "\n",
    "Print $N$ lines, one corresponding to each $i$."
   ]
  },
  {
   "cell_type": "code",
   "execution_count": null,
   "metadata": {
    "colab": {},
    "colab_type": "code",
    "id": "vwwkRd5kqPt6"
   },
   "outputs": [],
   "source": [
    "if __name__ == '__main__':\n",
    "    n = int(input())\n",
    "    # your code here\n",
    "    for i in range(n):\n",
    "        print(i**2)"
   ]
  },
  {
   "cell_type": "markdown",
   "metadata": {
    "colab_type": "text",
    "id": "6dXblWaxrpaA"
   },
   "source": [
    "##Task 4\n",
    "We add a Leap Day on February 29, almost every four years. The leap day is an extra, or intercalary day and we add it to the shortest month of the year, February.<br>\n",
    "\n",
    "In the Gregorian calendar three criteria must be taken into account to identify leap years:\n",
    "<ul>\n",
    "<li>The year can be evenly divided by 4, is a leap year, unless:</li>\n",
    "  <ul><li>The year can be evenly divided by 100, it is NOT a leap year, unless:</li>\n",
    "    <ul><li>The year is also evenly divisible by 400. Then it is a leap year.</li></ul></ul></ul>\n",
    "This means that in the Gregorian calendar, the years 2000 and 2400 are leap years, while 1800, 1900, 2100, 2200, 2300 and 2500 are NOT leap years.Source\n",
    "\n",
    "**Task**<br>\n",
    "<ul>\n",
    "<li>You are given the year, and you have to write a function to check if the year is leap or not.</li>\n",
    "\n",
    "  <li>Note that you have to complete the function and remaining code is given as template.</li>\n",
    "  </ul>\n",
    "\n",
    "**Input Format**\n",
    "\n",
    "Read y, the year that needs to be checked.\n",
    "\n",
    "**Constraints**<br>\n",
    "$1900 \\leq y \\leq 10^{5}$\n",
    "\n",
    "**Output Format**\n",
    "\n",
    "Output is taken care of by the template. Your function must return a boolean value (True/False)\n",
    "\n"
   ]
  },
  {
   "cell_type": "code",
   "execution_count": null,
   "metadata": {
    "colab": {},
    "colab_type": "code",
    "id": "8W6xXR9NtrUL"
   },
   "outputs": [],
   "source": [
    "def is_leap(year):\n",
    "  # your code here\n",
    "  return True if (year % 4 == 0) and ((year % 100 != 0) or (year % 100 == 0 and year % 400 == 0)) else False"
   ]
  },
  {
   "cell_type": "markdown",
   "metadata": {
    "colab_type": "text",
    "id": "B2WQ4__LrpBZ"
   },
   "source": [
    "##Task 5\n",
    "Given the participants' score sheet for your University Sports Day, you are required to find the runner-up score. You are given $n$ scores. Store them in a list and find the score of the runner-up.\n",
    "\n",
    "**Input Format**\n",
    "\n",
    "The first line contains $n$ . The second line contains an array $A[]$ of $n$ integers each separated by a space.\n",
    "\n",
    "**Constraints**<br>\n",
    "$2   \\leq n \\leq 10 $<br>\n",
    "$-100 \\leq A[i] \\leq 100 $\n",
    "\n",
    "Output Format\n",
    "\n",
    "Print the runner-up score."
   ]
  },
  {
   "cell_type": "code",
   "execution_count": 25,
   "metadata": {
    "colab": {},
    "colab_type": "code",
    "id": "xp0z6_EEuwFI"
   },
   "outputs": [
    {
     "name": "stdout",
     "output_type": "stream",
     "text": [
      "1000\n",
      "Original list score: [ -92   83  -92  -35  -69  -13   66  -37   26  -49   46  -86   88    1\n",
      "  -74   16  -50  -66   86   87  -63   91  -95  -50   98  -20  -37   -5\n",
      "   14   76   37  -26  -82  -87   20  -18   80  -81   43   90   39  -95\n",
      "  -72  -74  -97   61   60    0   24   50  -33  -26  -83   98  -65   62\n",
      "   97   99   55  -41  -28  -19  -85   96  -87  -69   60  -86   56  -34\n",
      "   90   73   18   80   58   34  -84   44  -75   99    1  -66    9   66\n",
      "  -51   97  -62   78  -45  -76   74   30   31   88  -29   64   56   63\n",
      "   67  -70    2   -1   29   65   59  -78  -32  -90   12  -32  -63  -98\n",
      "  -93  -60   98  -18  -96   97   66   69   38   67   44   30  -77   26\n",
      "  -18  -60  -14   57  -84  -94  -30   92  -53  -25   89  -11   97  -63\n",
      "  -98   87   59   54    6  -14  -16   95  -60  -37   38  -63  -88  -35\n",
      "   88  -37   82   45  -10  -24   96  -83  -88  -51  -18   98   35  -55\n",
      "  -35   52  -48   -2  -23   55    1  -10  -26   10   55   21  -52  -84\n",
      "  -60  -93   21  -74  -41   58   89   71   58  -40   88  -37   -5   98\n",
      "   40   81   94  -93  -93   19   83  -58    7   29   71  -86   93   95\n",
      "   69  -39   70  -23   55   53   67   56  -63   59  -26  -93  -42   -5\n",
      "   59  -93  -29  -36   84  -40   47  -53  -37   80   86    0   -4   82\n",
      "  -23  -61   94   76    9   55   24  -30   78   37  -47  -75  -25   44\n",
      "  -44  -91   39   23   17   60    9   70   62  -69   84  -30  -89  -98\n",
      "  -17  -23   -8   22   90   75  -96  -48    9  -14   69  -95  -47   33\n",
      "    4  -81   -5   35  -55  -10   17  -34   -1   64  -31   85  -65    1\n",
      "  -42  -78  -82  -51   32  -11   50  -34   90  -96    0   37  -84  -96\n",
      "   -3  -20  -91   86  -57  -27    3  -64   63  -14   62   23   81  -28\n",
      "   14   77  -35   52  -37   10   58  -20  -74  -93   27   70  -33  -31\n",
      "   -2  -12  -23  -39  -61  -64  -82   89  -84   93  -12   80   88   20\n",
      "   28  -59    2  -72  -18   91   98   99  -95  -51  -64   26  -71  -75\n",
      "   89   95   46   94  -74   66  -97  -13   57  -77  -90  -83   37   40\n",
      "   12   84   87   70  -32  -69  -56   44   61  -17   42  -10   89   -2\n",
      "  -33   30  -51  -63  -46    7  -17   25  -62   81   37   32  -22   -5\n",
      "  -30   51   41  -91   32    0  -48  -52  -80  -43  -21   23   30   97\n",
      "    8  -12  -53   42   63  -90   50  -24    4  -75  -88   40   29  -25\n",
      "   13  -72  -86   41  -95  -83   96   68  -60  -21  -23   38   56   66\n",
      "   85    4  -99  -93  -80  -74  -26   95   92   31  -75   36  -24    3\n",
      "   99  -39  -98  -58   86   27   89  -65  -90   94  -29   39   46    1\n",
      "  -62   18   75  -60   35   26   38    9   36   18   22   57   45  -81\n",
      "   48  -39   37  -85   92   15  -76   37    0  -98  -88   11   36  -32\n",
      "  -81   83   75  -77   69   83  -29   89  -59  -52   49  -37   89   80\n",
      "   12   79   87   57   -7  -67   12   13  -46  -24  -98   87   59   39\n",
      "   78   31  -31   35   80  -83   67   85   98    6   20   50   47   49\n",
      "  -13  -86   29   27   23   42  -13   86   42    2   53  -99  -92  -78\n",
      "  -80  -41  -82  -30  -70  -68   56   27   56   -3   -9   72   61   17\n",
      "   -6   56   76   18   64   82   85    3  -32   37  -62  -44   -5  -17\n",
      "  -92   99   -1  -45  -87  -92  -66   95  -39  -63  -15   -9   27  -72\n",
      "   47   92    2   86   97   92  -65   44  -90  -46  -76   89   12   16\n",
      "  -44   43   49   60  -47  -74  -20    7  -27   74  -59  -45   63  -96\n",
      "   86   79   77   29  -71  -95  -36  -25   44  -82   95   77   -4   46\n",
      "   15   64   61  -17   90  -46  -70 -100  -12   98   50   34  -22    1\n",
      "   59   38   10   42  -29   44    0   10  -77   44  -87  -73  -90   19\n",
      "  -24  -56  -66   58   82   93  -59   89   17   46  -27   87   38   68\n",
      "   -7  -49  -39   42   18  -29  -20  -38   30   48  -36   11   25  -34\n",
      "   84   93  -34  -43   21  -33   -9    2   87  -49  -21   48   15  -12\n",
      "   41  -19  -89    4   83   48  -86  -11   22   67   92   90  -49   17\n",
      "   60   57  -68   15  -39   10  -78   63    8   38   74   41  -57   70\n",
      "  -64  -39  -57   74   16  -63   93  -28  -49  -38  -18  -66  -19   38\n",
      "  -23   61  -23   34   68  -96  -33   81   26   55  -36   -2   -6  -77\n",
      "   78   -7   79   93  -70   44  -83   80  -85   56   53   13   35  -77\n",
      "   29  -75  -45   34   93   -3  -29   15  -17  -34   -5  -26  -34    2\n",
      "   -5   -1  -18  -87   25   45  -77  -16  -98   72   94   87  -33  -78\n",
      "  -60  -78   47  -49   86   98   19  -50  -89   31   71  -36  -45   31\n",
      "  -11   40   68  -46  -53   10   52   73   70   90   88  -84   91   46\n",
      "  -16  -32   10   67   28  -88  -77  -57   78   95   43  -27   10   15\n",
      "   25   21  -69  -22   18   70  -68   75  -61    5   -9   56   50  -33\n",
      "  -79   39  -89  -89   40  -29   93   64  -91  -16   54   -9   35  -17\n",
      "   26  -96  -71  -77  -34   62   22   61   61    9  -97   29   89   -4\n",
      "   31   26   14  -55  -72  -97  -26   14  -21  -39  -79  -47  -20   -6\n",
      "  -19   16   77   56  -60  -96   40   69   74   74   92  -47  -92   77\n",
      "   62   81   63   26  -88  -94  -55  -48  -62    0  -65  -94   62  -15\n",
      "  -27  -37  -29   98   15    9   95  -30   92  -91  -14   72   41   25\n",
      "   -8   38  -16   33   23  -51  -14  -81  -17  -41   29   96   61   72\n",
      "   58   62   -2  -14  -13  -22  -65   10  -87   70    1   36   40  -78\n",
      "  -20    6   -3   66   44   94   87  -83  -56   30  -90   71   80  -12\n",
      "  -59  -95   33   98   71   44]\n",
      "Time:  9.000000000014552e-05\n",
      "Time:  0.00012870000000475557\n"
     ]
    }
   ],
   "source": [
    "import timeit\n",
    "\n",
    "import numpy as np\n",
    "# O(n) time complexity\n",
    "if __name__ == '__main__':\n",
    "  n = int(input())\n",
    "  # your code here\n",
    "  A = np.random.randint(-100, 100, size=n)\n",
    "  print(\"Original list score: {}\".format(A))\n",
    "    \n",
    "  A = list(set(A))\n",
    "\n",
    "  # Fixed using np.sort\n",
    "  start = timeit.default_timer()\n",
    "  A1 = np.sort(np.array(A), axis=None) #O(n)\n",
    "#   print(\"Array sorted: {0}\".format(A1))\n",
    "  print(\"runner-up score: {0}\".format(A1[-2]))\n",
    "  stop = timeit.default_timer()\n",
    "  print('Time: ', stop - start)\n",
    "\n",
    "  start = timeit.default_timer()\n",
    "  for i in range(0, 2):\n",
    "        max_i = i\n",
    "        for j in range(i+1, len(A)):\n",
    "            if A[j] > A[max_i]:\n",
    "                max_i = j\n",
    "        A[i], A[max_i] = A[max_i], A[i]\n",
    "#   print(\"Array sorted: {0}\".format(A))\n",
    "  print(\"runner-up score: {0}\".format(A[1]))\n",
    "  stop = timeit.default_timer()\n",
    "  print('Time: ', stop - start)\n",
    "  \n",
    "        \n",
    "  "
   ]
  },
  {
   "cell_type": "code",
   "execution_count": 24,
   "metadata": {},
   "outputs": [
    {
     "data": {
      "text/plain": [
       "10"
      ]
     },
     "execution_count": 24,
     "metadata": {},
     "output_type": "execute_result"
    }
   ],
   "source": [
    "10\n",
    "\n",
    "\n",
    "\n"
   ]
  },
  {
   "cell_type": "markdown",
   "metadata": {},
   "source": [
    "# "
   ]
  },
  {
   "cell_type": "code",
   "execution_count": null,
   "metadata": {},
   "outputs": [],
   "source": []
  }
 ],
 "metadata": {
  "colab": {
   "collapsed_sections": [],
   "name": "Copy of Week 1 Assignment",
   "provenance": [],
   "toc_visible": true
  },
  "kernelspec": {
   "display_name": "Python 3",
   "language": "python",
   "name": "python3"
  },
  "language_info": {
   "codemirror_mode": {
    "name": "ipython",
    "version": 3
   },
   "file_extension": ".py",
   "mimetype": "text/x-python",
   "name": "python",
   "nbconvert_exporter": "python",
   "pygments_lexer": "ipython3",
   "version": "3.7.6"
  }
 },
 "nbformat": 4,
 "nbformat_minor": 1
}
