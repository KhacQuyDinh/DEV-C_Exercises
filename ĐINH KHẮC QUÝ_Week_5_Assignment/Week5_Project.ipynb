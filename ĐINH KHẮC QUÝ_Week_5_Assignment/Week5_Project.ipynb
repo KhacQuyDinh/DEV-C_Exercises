{
 "cells": [
  {
   "cell_type": "markdown",
   "metadata": {
    "colab_type": "text",
    "id": "ofzy8xHIXdQF"
   },
   "source": [
    "[Bag of Words Meets Bags of Popcorn](https://www.kaggle.com/c/word2vec-nlp-tutorial/data)\n",
    "======\n",
    "\n",
    "## Data Set\n",
    "\n",
    "The labeled data set consists of 50,000 IMDB movie reviews, specially selected for sentiment analysis. The sentiment of reviews is binary, meaning the IMDB rating < 5 results in a sentiment score of 0, and rating >=7 have a sentiment score of 1. No individual movie has more than 30 reviews. The 25,000 review labeled training set does not include any of the same movies as the 25,000 review test set. In addition, there are another 50,000 IMDB reviews provided without any rating labels.\n",
    "\n",
    "## File descriptions\n",
    "\n",
    "labeledTrainData - The labeled training set. The file is tab-delimited and has a header row followed by 25,000 rows containing an id, sentiment, and text for each review.\n",
    "## Data fields\n",
    "\n",
    "* id - Unique ID of each review\n",
    "* sentiment - Sentiment of the review; 1 for positive reviews and 0 for negative reviews\n",
    "* review - Text of the review\n",
    "\n",
    "## Objective\n",
    "Objective of this dataset is base on **review** we predict **sentiment** (positive or negative) so X is **review** column and y is **sentiment** column"
   ]
  },
  {
   "cell_type": "markdown",
   "metadata": {
    "colab_type": "text",
    "id": "dub6uxUzXdQH"
   },
   "source": [
    "## 1. Load Dataset\n",
    "\n",
    "Let's first of all have a look at the data. You can download the file `labeledTrainData.tsv` on the [Kaggle website of the competition](https://www.kaggle.com/c/word2vec-nlp-tutorial/data), or on our [Google Drive](https://drive.google.com/file/d/1a1Lyn7ihikk3klAX26fgO3YsGdWHWoK5/view?usp=sharing)\n"
   ]
  },
  {
   "cell_type": "code",
   "execution_count": 1,
   "metadata": {
    "colab": {},
    "colab_type": "code",
    "id": "y1WU9XkYXdQI"
   },
   "outputs": [],
   "source": [
    "import numpy as np\n",
    "import pandas as pd\n",
    "import seaborn as sns\n",
    "import matplotlib.pyplot as plt\n",
    "%matplotlib inline\n",
    "\n",
    "import warnings\n",
    "warnings.filterwarnings('ignore')"
   ]
  },
  {
   "cell_type": "code",
   "execution_count": 2,
   "metadata": {
    "colab": {},
    "colab_type": "code",
    "id": "_iH9rAw7XdQL"
   },
   "outputs": [
    {
     "data": {
      "text/html": [
       "<div>\n",
       "<style scoped>\n",
       "    .dataframe tbody tr th:only-of-type {\n",
       "        vertical-align: middle;\n",
       "    }\n",
       "\n",
       "    .dataframe tbody tr th {\n",
       "        vertical-align: top;\n",
       "    }\n",
       "\n",
       "    .dataframe thead th {\n",
       "        text-align: right;\n",
       "    }\n",
       "</style>\n",
       "<table border=\"1\" class=\"dataframe\">\n",
       "  <thead>\n",
       "    <tr style=\"text-align: right;\">\n",
       "      <th></th>\n",
       "      <th>id</th>\n",
       "      <th>sentiment</th>\n",
       "      <th>review</th>\n",
       "    </tr>\n",
       "  </thead>\n",
       "  <tbody>\n",
       "    <tr>\n",
       "      <th>0</th>\n",
       "      <td>5814_8</td>\n",
       "      <td>1</td>\n",
       "      <td>With all this stuff going down at the moment w...</td>\n",
       "    </tr>\n",
       "    <tr>\n",
       "      <th>1</th>\n",
       "      <td>2381_9</td>\n",
       "      <td>1</td>\n",
       "      <td>\\The Classic War of the Worlds\\\" by Timothy Hi...</td>\n",
       "    </tr>\n",
       "    <tr>\n",
       "      <th>2</th>\n",
       "      <td>7759_3</td>\n",
       "      <td>0</td>\n",
       "      <td>The film starts with a manager (Nicholas Bell)...</td>\n",
       "    </tr>\n",
       "    <tr>\n",
       "      <th>3</th>\n",
       "      <td>3630_4</td>\n",
       "      <td>0</td>\n",
       "      <td>It must be assumed that those who praised this...</td>\n",
       "    </tr>\n",
       "    <tr>\n",
       "      <th>4</th>\n",
       "      <td>9495_8</td>\n",
       "      <td>1</td>\n",
       "      <td>Superbly trashy and wondrously unpretentious 8...</td>\n",
       "    </tr>\n",
       "  </tbody>\n",
       "</table>\n",
       "</div>"
      ],
      "text/plain": [
       "       id  sentiment                                             review\n",
       "0  5814_8          1  With all this stuff going down at the moment w...\n",
       "1  2381_9          1  \\The Classic War of the Worlds\\\" by Timothy Hi...\n",
       "2  7759_3          0  The film starts with a manager (Nicholas Bell)...\n",
       "3  3630_4          0  It must be assumed that those who praised this...\n",
       "4  9495_8          1  Superbly trashy and wondrously unpretentious 8..."
      ]
     },
     "execution_count": 2,
     "metadata": {},
     "output_type": "execute_result"
    }
   ],
   "source": [
    "# Read dataset with extra params sep='\\t', encoding=\"latin-1\"\n",
    "df_IMDB_rating = pd.read_csv('labeledTrainData.csv', encoding='latin-1', sep='\\t')\n",
    "df_IMDB_rating.head()"
   ]
  },
  {
   "cell_type": "code",
   "execution_count": 3,
   "metadata": {},
   "outputs": [
    {
     "data": {
      "text/plain": [
       "25000"
      ]
     },
     "execution_count": 3,
     "metadata": {},
     "output_type": "execute_result"
    }
   ],
   "source": [
    "len(df_IMDB_rating)"
   ]
  },
  {
   "cell_type": "code",
   "execution_count": 4,
   "metadata": {},
   "outputs": [
    {
     "data": {
      "text/plain": [
       "False"
      ]
     },
     "execution_count": 4,
     "metadata": {},
     "output_type": "execute_result"
    }
   ],
   "source": [
    "# Check duplicate values\n",
    "df_IMDB_rating.duplicated().values.any()"
   ]
  },
  {
   "cell_type": "code",
   "execution_count": 5,
   "metadata": {},
   "outputs": [
    {
     "data": {
      "text/plain": [
       "False"
      ]
     },
     "execution_count": 5,
     "metadata": {},
     "output_type": "execute_result"
    }
   ],
   "source": [
    "#check missing values\n",
    "df_IMDB_rating.isnull().values.any()"
   ]
  },
  {
   "cell_type": "markdown",
   "metadata": {
    "colab_type": "text",
    "id": "bbuaIdhWXdQO"
   },
   "source": [
    "## 2. Preprocessing"
   ]
  },
  {
   "cell_type": "code",
   "execution_count": 6,
   "metadata": {
    "colab": {},
    "colab_type": "code",
    "id": "wJr6juwHXdQP",
    "outputId": "f2cd5751-6c3c-4259-8f20-d3caf34679ba",
    "scrolled": true
   },
   "outputs": [
    {
     "name": "stdout",
     "output_type": "stream",
     "text": [
      "['i', 'me', 'my', 'myself', 'we']\n"
     ]
    }
   ],
   "source": [
    "# stop words\n",
    "from nltk.corpus import stopwords\n",
    "stop_words = stopwords.words('english')\n",
    "print(stop_words[:5])"
   ]
  },
  {
   "cell_type": "code",
   "execution_count": 7,
   "metadata": {
    "colab": {},
    "colab_type": "code",
    "id": "3v220Tp_XdQS"
   },
   "outputs": [
    {
     "name": "stdout",
     "output_type": "stream",
     "text": [
      "make it work with love american psycho\n"
     ]
    }
   ],
   "source": [
    "# Removing special characters and \"trash\"\n",
    "import re\n",
    "def preprocessor(text):\n",
    "    # Remove HTML markup\n",
    "    # remove html like \"<abc>\" -> \"\"\n",
    "    text = re.sub('<[^>]*>', '', text)\n",
    "    \n",
    "    # Save emoticons for later appending\n",
    "    emoticons = re.findall('(?::|;|=)(?:-)?(?:\\)|\\(|D|P)', text)\n",
    "    \n",
    "    # Remove any non-word character and append the emoticons,\n",
    "    # removing the nose character for standarization. Convert to lower case\n",
    "    # when lower text, all non-word chars will remain in uppercase.\n",
    "    text = re.sub('[\\W]+', ' ', text.lower())\n",
    "    \n",
    "    # Removing unnecessary spaces\n",
    "    while text.find('  ') != -1:\n",
    "        text = text.replace('  ', ' ')\n",
    "    text = text.strip()\n",
    "    \n",
    "    return text\n",
    "\n",
    "# Testcase\n",
    "print(preprocessor('   Make it work :)), ||| <b>with love</b> ||  \\American Psycho,\\\"'))"
   ]
  },
  {
   "cell_type": "code",
   "execution_count": 8,
   "metadata": {
    "colab": {},
    "colab_type": "code",
    "id": "-o5ED67LXdQV"
   },
   "outputs": [
    {
     "name": "stdout",
     "output_type": "stream",
     "text": [
      "['Hi', 'there,', 'I', 'am', 'do', 'this,', 'do', 'it,', 'doe', 'it...']\n"
     ]
    }
   ],
   "source": [
    "# tokenizer and stemming\n",
    "# tokenizer: to break down our twits in individual words\n",
    "# stemming: reducing a word to its root\n",
    "from nltk.stem import PorterStemmer\n",
    "porter = PorterStemmer()\n",
    "\n",
    "def tokenizer_porter(text):\n",
    "    return [porter.stem(word) for word in text.split()] #stem for each word splitted by a space\n",
    "\n",
    "# Testcase\n",
    "print(tokenizer_porter('Hi there, I am doing this, do it, does it...'))"
   ]
  },
  {
   "cell_type": "code",
   "execution_count": 49,
   "metadata": {
    "colab": {},
    "colab_type": "code",
    "id": "zjzOxu4MXdQZ"
   },
   "outputs": [
    {
     "name": "stdout",
     "output_type": "stream",
     "text": [
      "X_train_shape: (20000,), Y_train_shape: (20000,)\n",
      "X_test_shape: (5000,), Y_test_shape: (5000,)\n",
      "X_train_samples: With all this stuff going down at the moment with MJ i've started listening to his music, watching the odd documentary here and there, watched The Wiz and watched Moonwalker again. Maybe i just want to get a certain insight into this guy who i thought was really cool in the eighties just to maybe make up my mind whether he is guilty or innocent. Moonwalker is part biography, part feature film which i remember going to see at the cinema when it was originally released. Some of it has subtle messages about MJ's feeling towards the press and also the obvious message of drugs are bad m'kay.<br /><br />Visually impressive but of course this is all about Michael Jackson so unless you remotely like MJ in anyway then you are going to hate this and find it boring. Some may call MJ an egotist for consenting to the making of this movie BUT MJ and most of his fans would say that he made it for the fans which if true is really nice of him.<br /><br />The actual feature film bit when it finally starts is only on for 20 minutes or so excluding the Smooth Criminal sequence and Joe Pesci is convincing as a psychopathic all powerful drug lord. Why he wants MJ dead so bad is beyond me. Because MJ overheard his plans? Nah, Joe Pesci's character ranted that he wanted people to know it is he who is supplying drugs etc so i dunno, maybe he just hates MJ's music.<br /><br />Lots of cool things in this like MJ turning into a car and a robot and the whole Speed Demon sequence. Also, the director must have had the patience of a saint when it came to filming the kiddy Bad sequence as usually directors hate working with one kid let alone a whole bunch of them performing a complex dance scene.<br /><br />Bottom line, this movie is for people who like MJ on one level or another (which i think is most people). If not, then stay away. It does try and give off a wholesome message and ironically MJ's bestest buddy in this movie is a girl! Michael Jackson is truly one of the most talented people ever to grace this planet but is he guilty? Well, with all the attention i've gave this subject....hmmm well i don't know because people can be different behind closed doors, i know this for a fact. He is either an extremely nice but stupid guy or one of the most sickest liars. I hope he is not the latter.,\n",
      "Y_train_samples: 1\n",
      "X_test_samples: This sleek, sexy movie is a must-see. Only upon multiple viewings can one truly understand the uniqueness of this film. Personally I enjoy the narrator for his intelligent, no subject left untouched, style of narration. The introduction grips you right away, and holds you at the edge of your seat throughout the film. He provides wonderful insight into the world of the trainables and allows the audience to really 'connect' with internal horror this film exhibits. The script itself holds the movie together wonderfully. Not only for kids, but the elderly alike will gain a higher understanding of the trainables and the modern grasp that they have on the sexual experience. Ahead of its time and groundbreaking in cinematography, it surely defines the word 'masterpiece'.,\n",
      "Y_test_samples: 0\n"
     ]
    }
   ],
   "source": [
    "# split the dataset in train and test\n",
    "# Your code here\n",
    "from sklearn.model_selection import train_test_split\n",
    "\n",
    "X = df_IMDB_rating['review']\n",
    "y = df_IMDB_rating['sentiment']\n",
    "X_train, X_test, y_train, y_test = train_test_split(X, y, test_size=0.2, random_state=102)\n",
    "\n",
    "# The dimension of X_train and X_test will change to 2-d after applying tfidf for vectorization.\n",
    "print(\"X_train_shape: {0}, Y_train_shape: {1}\".format(X_train.shape, y_train.shape))\n",
    "print(\"X_test_shape: {0}, Y_test_shape: {1}\".format(X_test.shape, y_test.shape))\n",
    "print(\"X_train_samples: {0},\\nY_train_samples: {1}\".format(X_train[0], y_train[0]))\n",
    "print(\"X_test_samples: {0},\\nY_test_samples: {1}\".format(list(X_test)[3], list(y_test)[3]))"
   ]
  },
  {
   "cell_type": "markdown",
   "metadata": {
    "colab_type": "text",
    "id": "COr1xR7PXdQc"
   },
   "source": [
    "## 3.1 Create Model and Train \n",
    "\n",
    "Using **Pipeline** to concat **tfidf** step and **LogisticRegression** step"
   ]
  },
  {
   "cell_type": "code",
   "execution_count": 12,
   "metadata": {
    "colab": {},
    "colab_type": "code",
    "id": "tOpwINJmXdQd"
   },
   "outputs": [],
   "source": [
    "from sklearn.pipeline import Pipeline\n",
    "from sklearn.linear_model import LogisticRegression\n",
    "from sklearn.feature_extraction.text import TfidfVectorizer\n",
    "\n",
    "# Use tfidf to vectorize reviews.\n",
    "tfidf = TfidfVectorizer(stop_words=stop_words,\n",
    "                        tokenizer=tokenizer_porter,\n",
    "                        preprocessor=preprocessor,\n",
    "                        ngram_range=(1,1),\n",
    "                        min_df=5)\n",
    "\n",
    "# Make a pipeline including using tfidf first, then logistic regression to make a classifier.\n",
    "# This is used for both training and testing with the same input format\n",
    "# X is list of text\n",
    "# y is list of sentiment (0,1) \n",
    "clf = Pipeline([('vec', tfidf),\n",
    "                ('clf', LogisticRegression(random_state=0))])"
   ]
  },
  {
   "cell_type": "markdown",
   "metadata": {},
   "source": [
    "## 3.2. Tuning hyper-params"
   ]
  },
  {
   "cell_type": "markdown",
   "metadata": {},
   "source": [
    "### 3.3.1. Cross-validation, it is convenient but slow for large training data with 20000 samples\n",
    "Currently, using this way"
   ]
  },
  {
   "cell_type": "code",
   "execution_count": 13,
   "metadata": {},
   "outputs": [
    {
     "name": "stdout",
     "output_type": "stream",
     "text": [
      "0.8846999999999999\n"
     ]
    }
   ],
   "source": [
    "# from sklearn.model_selection import cross_val_score\n",
    "\n",
    "# #0.88445: ngram_range=(1,1)\n",
    "# #0.88469: ngram_range=(1,1), min_df=5\n",
    "\n",
    "# # Currently, tuning hyper-params by hand\n",
    "# scores = cross_val_score(clf, X_train, y_train, cv=5)\n",
    "# print(np.mean(scores))"
   ]
  },
  {
   "cell_type": "markdown",
   "metadata": {},
   "source": [
    "### 3.3.2. The better way for time-cost: Split Testset into two parts Testset and Validation dataset (ratio 1:1)\n",
    "At the moment, not using this method"
   ]
  },
  {
   "cell_type": "code",
   "execution_count": 41,
   "metadata": {},
   "outputs": [
    {
     "name": "stdout",
     "output_type": "stream",
     "text": [
      "y_train_neg/y_train_pos = 9997/10003\n",
      "X_dev_shape: (2500,), Y_dev_shape: (2500,)\n",
      "X_test_shape: (2500,), Y_test_shape: (2500,)\n",
      "y_dev_neg/y_dev_pos = 1265/1235\n"
     ]
    }
   ],
   "source": [
    "print(\"y_train_neg/y_train_pos = {0}/{1}\".format(len(np.where(y_train == 0)[0]), len(np.where(y_train == 1)[0])))\n",
    "X_dev, X_test_new, y_dev, y_test_new = train_test_split(X_test, y_test, test_size=0.5, random_state=102)\n",
    "print(\"X_dev_shape: {0}, Y_dev_shape: {1}\".format(X_dev.shape, y_dev.shape))\n",
    "print(\"X_test_shape: {0}, Y_test_shape: {1}\".format(X_test_new.shape, y_test_new.shape))\n",
    "print(\"y_dev_neg/y_dev_pos = {0}/{1}\".format(len(np.where(y_dev == 0)[0]), len(np.where(y_dev == 1)[0])))"
   ]
  },
  {
   "cell_type": "markdown",
   "metadata": {},
   "source": [
    "## 3.3. Retrain the model with the best pick-up hyper-params"
   ]
  },
  {
   "cell_type": "code",
   "execution_count": 42,
   "metadata": {},
   "outputs": [
    {
     "data": {
      "text/plain": [
       "Pipeline(memory=None,\n",
       "         steps=[('vec',\n",
       "                 TfidfVectorizer(analyzer='word', binary=False,\n",
       "                                 decode_error='strict',\n",
       "                                 dtype=<class 'numpy.float64'>,\n",
       "                                 encoding='utf-8', input='content',\n",
       "                                 lowercase=True, max_df=1.0, max_features=None,\n",
       "                                 min_df=5, ngram_range=(1, 1), norm='l2',\n",
       "                                 preprocessor=<function preprocessor at 0x000001AE934FF558>,\n",
       "                                 smooth_idf=True,\n",
       "                                 stop_words=['i', 'me', 'my', 'myself...\n",
       "                                 token_pattern='(?u)\\\\b\\\\w\\\\w+\\\\b',\n",
       "                                 tokenizer=<function tokenizer_porter at 0x000001AE8F571AF8>,\n",
       "                                 use_idf=True, vocabulary=None)),\n",
       "                ('clf',\n",
       "                 LogisticRegression(C=1.0, class_weight=None, dual=False,\n",
       "                                    fit_intercept=True, intercept_scaling=1,\n",
       "                                    l1_ratio=None, max_iter=100,\n",
       "                                    multi_class='auto', n_jobs=None,\n",
       "                                    penalty='l2', random_state=0,\n",
       "                                    solver='lbfgs', tol=0.0001, verbose=0,\n",
       "                                    warm_start=False))],\n",
       "         verbose=False)"
      ]
     },
     "execution_count": 42,
     "metadata": {},
     "output_type": "execute_result"
    }
   ],
   "source": [
    "# Use tfidf to vectorize reviews.\n",
    "tfidf = TfidfVectorizer(stop_words=stop_words,\n",
    "                        tokenizer=tokenizer_porter,\n",
    "                        preprocessor=preprocessor,\n",
    "                        ngram_range=(1,1),\n",
    "                        min_df=5)\n",
    "\n",
    "# Make a pipeline including using tfidf first, then logistic regression to make a classifier.\n",
    "clf = Pipeline([('vec', tfidf),\n",
    "                ('clf', LogisticRegression(random_state=0))])\n",
    "\n",
    "clf.fit(X_train, y_train)"
   ]
  },
  {
   "cell_type": "markdown",
   "metadata": {
    "colab_type": "text",
    "id": "KYdoVMx_XdQf"
   },
   "source": [
    "## 4. Evaluate Model"
   ]
  },
  {
   "cell_type": "code",
   "execution_count": 43,
   "metadata": {
    "colab": {},
    "colab_type": "code",
    "id": "Z2ZOzHoaXdQg"
   },
   "outputs": [
    {
     "name": "stdout",
     "output_type": "stream",
     "text": [
      "accuracy: 0.885\n",
      "confusion matrix:\n",
      " [[2160  343]\n",
      " [ 232 2265]]\n",
      "classification report:\n",
      "               precision    recall  f1-score   support\n",
      "\n",
      "           0       0.90      0.86      0.88      2503\n",
      "           1       0.87      0.91      0.89      2497\n",
      "\n",
      "    accuracy                           0.89      5000\n",
      "   macro avg       0.89      0.89      0.88      5000\n",
      "weighted avg       0.89      0.89      0.88      5000\n",
      "\n"
     ]
    }
   ],
   "source": [
    "# Using Test dataset to evaluate model.\n",
    "# classification_report.\n",
    "# confusion matrix.\n",
    "from sklearn.metrics import accuracy_score, confusion_matrix, classification_report\n",
    "predictions = clf.predict(X_test)\n",
    "print('accuracy:',accuracy_score(y_test,predictions))\n",
    "print('confusion matrix:\\n',confusion_matrix(y_test,predictions))\n",
    "print('classification report:\\n',classification_report(y_test,predictions))"
   ]
  },
  {
   "cell_type": "markdown",
   "metadata": {},
   "source": [
    "## 4.1. Some test cases"
   ]
  },
  {
   "cell_type": "code",
   "execution_count": 47,
   "metadata": {},
   "outputs": [
    {
     "name": "stdout",
     "output_type": "stream",
     "text": [
      "Great acting on the part of Gretchen Mol. This film is one of the best biopics to hit the screen in some time. While it does cover the majority of Bettie's young life, it also manages to stay on a mostly focused path which is something most biographical films seem to lack. There is some lovely and alarmingly funny subtext in the dialogue and acting. This film is an excellent break from the Dir. of \\American Psycho,\\\" and I think this will show through as her best work to date. Oh, and as a cinematography buff, I give this film 100% in the cine dept. It was amazing how well they pulled off a 50s look with modern film stocks. Accolades to the D.O.P. All around very enjoyable. I recommend any interested to see it: 8/10.\" --> Negative, Positive = [0.04317376 0.95682624] --> True label = 1\n",
      "While this movie isn't a classic by any stretch, it is very entertaining as I remember it. I saw it about 15 years ago on HBO and loved the movie. It was written by the same guy that wrote and directed \\Arthur\\\" and though it isn't as funny as that movie, it does show the potential that Steve Gordon reached with \\\"Arthur\\\".\" --> Negative, Positive = [0.22056259 0.77943741] --> True label = 1\n",
      "While I had wanted to se this film since the first time I watched the trailer, I was in for a deep surprise with this film. While some of the elements and actions of the characters seemed a little too Âcartoonish,' the dark nature of the film really makes this a much different experience. Instead of the feel-good-happy-story, this film takes you in another direction that proves to be uplifting, but also disturbing. Most kids won't understand some of the darker moments in the film, which makes this film rather watchable for adults. I was also impressed with the cinematography, using animation and digital animation to create a seamless network of pans and tilts. The musical score was once again solid, proving Hans Zimmer is the go-to guy when it comes to animated scores, and I never thought I would say I actually enjoyed Brian Adams' music. --> Negative, Positive = [0.10956916 0.89043084] --> True label = 1\n",
      "This sleek, sexy movie is a must-see. Only upon multiple viewings can one truly understand the uniqueness of this film. Personally I enjoy the narrator for his intelligent, no subject left untouched, style of narration. The introduction grips you right away, and holds you at the edge of your seat throughout the film. He provides wonderful insight into the world of the trainables and allows the audience to really 'connect' with internal horror this film exhibits. The script itself holds the movie together wonderfully. Not only for kids, but the elderly alike will gain a higher understanding of the trainables and the modern grasp that they have on the sexual experience. Ahead of its time and groundbreaking in cinematography, it surely defines the word 'masterpiece'. --> Negative, Positive = [0.04258073 0.95741927] --> True label = 0\n",
      "Went to Wal-Mart and found this film on DVD and had no idea whether I made a bad purchase or a good one. It is the later outcome to my viewing the entire film from beginning to end. Michelle Rodriquez,(Diana Guzman),\\BloodRayne\\\",'05, gave a great performance and her looks are beautiful, sexy, and at the same time a real study in the art of how acting is really performed. Diana did not like her home life and especially her own father for the abuse he gave her mother. She decides to get boxing training in a local Brooklyn Gym and is not really well accepted by the male boxers. In her high school there is plenty of friction between her female classmates and guys. There is lots of action in the ladies bathroom and references as to private parts of guys. If you like boxing, and seeing a hot sexy gal do wonders in the ring and knock the boys on their you Know What, this is the film for you.\" --> Negative, Positive = [0.1179038 0.8820962] --> True label = 1\n"
     ]
    }
   ],
   "source": [
    "IMDB_rating = list(X_test[:5])\n",
    "\n",
    "preds = clf.predict_proba(IMDB_rating)\n",
    "\n",
    "for i in range(len(IMDB_rating)):\n",
    "    print(f'{IMDB_rating[i]} --> Negative, Positive = {preds[i]} --> True label = {list(y_test)[i]}')"
   ]
  },
  {
   "cell_type": "markdown",
   "metadata": {
    "colab_type": "text",
    "id": "NCAuLC0aXdQi"
   },
   "source": [
    "## 5.1 Export Model "
   ]
  },
  {
   "cell_type": "code",
   "execution_count": 45,
   "metadata": {
    "colab": {},
    "colab_type": "code",
    "id": "sYHo_x67XdQj"
   },
   "outputs": [],
   "source": [
    "# Using pickle to export our trained model.\n",
    "import pickle\n",
    "import os\n",
    "\n",
    "pickle.dump(clf, open('LR_IMDB_rating.pkl', 'wb'))"
   ]
  },
  {
   "cell_type": "markdown",
   "metadata": {},
   "source": [
    "## 5.2 Load Model"
   ]
  },
  {
   "cell_type": "code",
   "execution_count": 46,
   "metadata": {},
   "outputs": [
    {
     "name": "stdout",
     "output_type": "stream",
     "text": [
      "Great acting on the part of Gretchen Mol. This film is one of the best biopics to hit the screen in some time. While it does cover the majority of Bettie's young life, it also manages to stay on a mostly focused path which is something most biographical films seem to lack. There is some lovely and alarmingly funny subtext in the dialogue and acting. This film is an excellent break from the Dir. of \\American Psycho,\\\" and I think this will show through as her best work to date. Oh, and as a cinematography buff, I give this film 100% in the cine dept. It was amazing how well they pulled off a 50s look with modern film stocks. Accolades to the D.O.P. All around very enjoyable. I recommend any interested to see it: 8/10.\" --> Negative, Positive = [0.04317376 0.95682624] --> True label = 1\n",
      "While this movie isn't a classic by any stretch, it is very entertaining as I remember it. I saw it about 15 years ago on HBO and loved the movie. It was written by the same guy that wrote and directed \\Arthur\\\" and though it isn't as funny as that movie, it does show the potential that Steve Gordon reached with \\\"Arthur\\\".\" --> Negative, Positive = [0.22056259 0.77943741] --> True label = 1\n",
      "While I had wanted to se this film since the first time I watched the trailer, I was in for a deep surprise with this film. While some of the elements and actions of the characters seemed a little too Âcartoonish,' the dark nature of the film really makes this a much different experience. Instead of the feel-good-happy-story, this film takes you in another direction that proves to be uplifting, but also disturbing. Most kids won't understand some of the darker moments in the film, which makes this film rather watchable for adults. I was also impressed with the cinematography, using animation and digital animation to create a seamless network of pans and tilts. The musical score was once again solid, proving Hans Zimmer is the go-to guy when it comes to animated scores, and I never thought I would say I actually enjoyed Brian Adams' music. --> Negative, Positive = [0.10956916 0.89043084] --> True label = 1\n",
      "This sleek, sexy movie is a must-see. Only upon multiple viewings can one truly understand the uniqueness of this film. Personally I enjoy the narrator for his intelligent, no subject left untouched, style of narration. The introduction grips you right away, and holds you at the edge of your seat throughout the film. He provides wonderful insight into the world of the trainables and allows the audience to really 'connect' with internal horror this film exhibits. The script itself holds the movie together wonderfully. Not only for kids, but the elderly alike will gain a higher understanding of the trainables and the modern grasp that they have on the sexual experience. Ahead of its time and groundbreaking in cinematography, it surely defines the word 'masterpiece'. --> Negative, Positive = [0.04258073 0.95741927] --> True label = 0\n",
      "Went to Wal-Mart and found this film on DVD and had no idea whether I made a bad purchase or a good one. It is the later outcome to my viewing the entire film from beginning to end. Michelle Rodriquez,(Diana Guzman),\\BloodRayne\\\",'05, gave a great performance and her looks are beautiful, sexy, and at the same time a real study in the art of how acting is really performed. Diana did not like her home life and especially her own father for the abuse he gave her mother. She decides to get boxing training in a local Brooklyn Gym and is not really well accepted by the male boxers. In her high school there is plenty of friction between her female classmates and guys. There is lots of action in the ladies bathroom and references as to private parts of guys. If you like boxing, and seeing a hot sexy gal do wonders in the ring and knock the boys on their you Know What, this is the film for you.\" --> Negative, Positive = [0.1179038 0.8820962] --> True label = 1\n"
     ]
    }
   ],
   "source": [
    "# Loading the model.\n",
    "with open('LR_IMDB_rating.pkl', 'rb') as model:\n",
    "    LR_IMDB_rating = pickle.load(model)\n",
    "    \n",
    "preds = LR_IMDB_rating.predict_proba(IMDB_rating)\n",
    "\n",
    "for i in range(len(IMDB_rating)):\n",
    "    print(f'{IMDB_rating[i]} --> Negative, Positive = {preds[i]} --> True label = {list(y_test)[i]}')"
   ]
  },
  {
   "cell_type": "code",
   "execution_count": null,
   "metadata": {},
   "outputs": [],
   "source": [
    "Thank you"
   ]
  }
 ],
 "metadata": {
  "colab": {
   "collapsed_sections": [],
   "name": "Week5_Project.ipynb",
   "provenance": []
  },
  "kernelspec": {
   "display_name": "Python 3",
   "language": "python",
   "name": "python3"
  },
  "language_info": {
   "codemirror_mode": {
    "name": "ipython",
    "version": 3
   },
   "file_extension": ".py",
   "mimetype": "text/x-python",
   "name": "python",
   "nbconvert_exporter": "python",
   "pygments_lexer": "ipython3",
   "version": "3.7.6"
  }
 },
 "nbformat": 4,
 "nbformat_minor": 1
}
